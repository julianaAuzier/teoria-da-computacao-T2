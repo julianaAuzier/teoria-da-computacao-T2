{
 "cells": [
  {
   "cell_type": "markdown",
   "id": "df22f373",
   "metadata": {},
   "source": [
    "# Teoria da Computação - Trabalho 2"
   ]
  },
  {
   "cell_type": "markdown",
   "id": "47daab0f",
   "metadata": {},
   "source": [
    "### Índice\n",
    "1. [Questão 1](#Questão-1)<br>\n",
    "2. [Questão 2](#Questão-2)<br>\n",
    "3. [Questão 3](#Questão-3)<br>"
   ]
  },
  {
   "cell_type": "code",
   "execution_count": 1,
   "id": "e4cca660",
   "metadata": {},
   "outputs": [],
   "source": [
    "import pandas as pd\n",
    "from IPython.display import Image\n",
    "pathFileImages = 'C:/Users/julia/Teoria da Computação/T2 AFD/'"
   ]
  },
  {
   "cell_type": "code",
   "execution_count": 2,
   "id": "4b6389ac",
   "metadata": {},
   "outputs": [],
   "source": [
    "#lê automato e testa a cadeia\n",
    "def recon_afd(estados, alfabeto, e_inicial, e_finais, f_transicao,w):\n",
    "    estado_atual = e_inicial\n",
    "\n",
    "    for letra in w:\n",
    "        estado_atual = f_transicao[(estado_atual, letra)]\n",
    "\n",
    "        if estado_atual is None:\n",
    "            print(\"Rejeitada\")\n",
    "            break\n",
    "    else:\n",
    "        if (estado_atual in e_finais):\n",
    "            print(\"Aceita\")\n",
    "        else:\n",
    "            print(\"Rejeitada\")"
   ]
  },
  {
   "cell_type": "markdown",
   "id": "6ef0ed1d",
   "metadata": {},
   "source": [
    "## Questão 1"
   ]
  },
  {
   "cell_type": "markdown",
   "id": "7f37cbf8",
   "metadata": {},
   "source": [
    "### Considere as linguagens definidas pelas expressões regulares a seguir. Implemente, para cada uma das linguagens, um autômato finito que reconheça cadeias pertencentes a linguagem. Esse autômato não deve conter não-determinismos, transições em vazio, estados inacessíveis e nem estados inúteis.\n",
    "##### a) (ab * c * )*"
   ]
  },
  {
   "cell_type": "code",
   "execution_count": 3,
   "id": "e7c382ac",
   "metadata": {},
   "outputs": [
    {
     "name": "stdout",
     "output_type": "stream",
     "text": [
      "Aceita\n",
      "Aceita\n",
      "Aceita\n",
      "Aceita\n",
      "Aceita\n",
      "Aceita\n",
      "Aceita\n",
      "Aceita\n",
      "Aceita\n",
      "Aceita\n",
      "Rejeitada\n",
      "Rejeitada\n",
      "Rejeitada\n",
      "Rejeitada\n"
     ]
    }
   ],
   "source": [
    "estados = ['q0','q1','q2']\n",
    "alfabeto = ['a','b','c']\n",
    "e_inicial = \"q0\"\n",
    "e_finais = ['q0','q1','q2']\n",
    "f_transicao =   {('q0', 'a'): 'q1', \n",
    "                 ('q0', 'b'): None, \n",
    "                 ('q0', 'c'): None, \n",
    "                 ('q1', 'a'): None, \n",
    "                 ('q1', 'b'): 'q1', \n",
    "                 ('q1', 'c'): 'q2', \n",
    "                 ('q2', 'a'): None, \n",
    "                 ('q2', 'b'): None, \n",
    "                 ('q2', 'c'): 'q2'}\n",
    "\n",
    "#teste de estresse\n",
    "l_w =['',\n",
    "      'a',\n",
    "      'ab',\n",
    "      'ac',\n",
    "      'abc',\n",
    "      'abbc',\n",
    "      'accc',\n",
    "      'accc',\n",
    "      'abbb',\n",
    "      'abbbcccc',     #rejeitadas:\n",
    "      'acbc',\n",
    "      'abccbc',\n",
    "      'bcbabc',\n",
    "      'baaccc'\n",
    "      ]\n",
    "for w in l_w:\n",
    "    recon_afd(estados, alfabeto, e_inicial, e_finais, f_transicao,w)"
   ]
  },
  {
   "cell_type": "markdown",
   "id": "1d728a6c",
   "metadata": {},
   "source": [
    "##### b) aaa(b | c)* | (b | c)* aaa"
   ]
  },
  {
   "cell_type": "code",
   "execution_count": 4,
   "id": "632b7ba2",
   "metadata": {},
   "outputs": [
    {
     "name": "stdout",
     "output_type": "stream",
     "text": [
      "Aceita\n",
      "Aceita\n",
      "Aceita\n",
      "Aceita\n",
      "Aceita\n",
      "Aceita\n",
      "Aceita\n",
      "Aceita\n",
      "Aceita\n",
      "Aceita\n",
      "Rejeitada\n",
      "Rejeitada\n",
      "Rejeitada\n",
      "Rejeitada\n",
      "Rejeitada\n",
      "Rejeitada\n"
     ]
    }
   ],
   "source": [
    "estados = ['q0','q1','q2','q3']\n",
    "alfabeto = ['a','b','c']\n",
    "e_inicial = \"q0\"\n",
    "e_finais = ['q3']\n",
    "f_transicao =   {('q0', 'a'): 'q1', \n",
    "                 ('q0', 'b'): 'q0', \n",
    "                 ('q0', 'c'): 'q0', \n",
    "                 ('q1', 'a'): 'q2', \n",
    "                 ('q1', 'b'): None, \n",
    "                 ('q1', 'c'): None, \n",
    "                 ('q2', 'a'): 'q3', \n",
    "                 ('q2', 'b'): None, \n",
    "                 ('q2', 'c'): None,\n",
    "                 ('q3', 'a'): None,\n",
    "                 ('q3', 'b'): 'q3',\n",
    "                 ('q3', 'c'): 'q3'\n",
    "                }\n",
    "\n",
    "#teste de estresse\n",
    "l_w =['aaa',\n",
    "      'aaab',\n",
    "      'aaac',\n",
    "      'aaabc',\n",
    "      'aaaccb',\n",
    "      'aaabbcbc',\n",
    "      'bbcbcaaa',\n",
    "      'ccbaaa',\n",
    "      'aaac',\n",
    "      'aaab',     #rejeitadas:\n",
    "      '',\n",
    "      'bcbcbcb',\n",
    "      'aa',\n",
    "      'a',\n",
    "      'aaabcaaa',\n",
    "      'abbaabbaaa'\n",
    "      ]\n",
    "for w in l_w:\n",
    "    recon_afd(estados, alfabeto, e_inicial, e_finais, f_transicao,w)"
   ]
  },
  {
   "cell_type": "markdown",
   "id": "57f7fd6a",
   "metadata": {},
   "source": [
    "##### c) a * b | a b * "
   ]
  },
  {
   "cell_type": "code",
   "execution_count": 5,
   "id": "b41c91ab",
   "metadata": {},
   "outputs": [
    {
     "name": "stdout",
     "output_type": "stream",
     "text": [
      "Aceita\n",
      "Aceita\n",
      "Aceita\n",
      "Aceita\n",
      "Aceita\n",
      "Rejeitada\n",
      "Rejeitada\n",
      "Rejeitada\n",
      "Rejeitada\n",
      "Rejeitada\n",
      "Rejeitada\n",
      "Rejeitada\n"
     ]
    }
   ],
   "source": [
    "estados = ['q0','q1','q2','q3','q4']\n",
    "alfabeto = ['a','b']\n",
    "e_inicial = \"q0\"\n",
    "e_finais = ['q1','q2','q4']\n",
    "f_transicao =   {('q0', 'a'): 'q1', \n",
    "                 ('q0', 'b'): 'q2', \n",
    "                 ('q1', 'a'): 'q3', \n",
    "                 ('q1', 'b'): 'q4',\n",
    "                 ('q2', 'a'): None, \n",
    "                 ('q2', 'b'): None,\n",
    "                 ('q3', 'a'): 'q3',\n",
    "                 ('q3', 'b'): 'q2',\n",
    "                 ('q4', 'b'): 'q4',\n",
    "                 ('q4', 'a'): None,\n",
    "                }\n",
    "\n",
    "#teste de estresse\n",
    "l_w =['a',\n",
    "      'b',\n",
    "      'ab',\n",
    "      'aaaab',\n",
    "      'abbbbb',    #rejeitadas:\n",
    "      'ababa',\n",
    "      'baba',\n",
    "      'abba',\n",
    "      'baaaaab',\n",
    "      '',\n",
    "      'bbb',\n",
    "      'aaa'\n",
    "      ]\n",
    "for w in l_w:\n",
    "    recon_afd(estados, alfabeto, e_inicial, e_finais, f_transicao,w)"
   ]
  },
  {
   "cell_type": "markdown",
   "id": "24a08515",
   "metadata": {},
   "source": [
    "##### d) a * b * ( a | a c * )"
   ]
  },
  {
   "cell_type": "code",
   "execution_count": 6,
   "id": "bc0535c3",
   "metadata": {},
   "outputs": [
    {
     "name": "stdout",
     "output_type": "stream",
     "text": [
      "Aceita\n",
      "Rejeitada\n",
      "Aceita\n",
      "Aceita\n",
      "Rejeitada\n",
      "Rejeitada\n",
      "Aceita\n",
      "Rejeitada\n",
      "Aceita\n",
      "Rejeitada\n",
      "Aceita\n",
      "Aceita\n",
      "Aceita\n",
      "Rejeitada\n",
      "Aceita\n",
      "Rejeitada\n"
     ]
    }
   ],
   "source": [
    "estados = ['q0','q1','q2','q3']\n",
    "alfabeto = ['a','b','c']\n",
    "e_inicial = \"q0\"\n",
    "e_finais = ['q1','q2']\n",
    "f_transicao =   {('q0', 'a'): 'q2', \n",
    "                 ('q0', 'b'): 'q3', \n",
    "                 ('q0', 'c'): None, \n",
    "                 ('q1', 'a'): None, \n",
    "                 ('q1', 'b'): None,\n",
    "                 ('q1', 'c'): 'q1',\n",
    "                 ('q2', 'a'): 'q2',\n",
    "                 ('q2', 'b'): 'q3',\n",
    "                 ('q2', 'c'): 'q1',\n",
    "                 ('q3', 'a'): 'q1',\n",
    "                 ('q3', 'b'): 'q3',\n",
    "                 ('q3', 'c'): None\n",
    "                }\n",
    "\n",
    "#teste de estresse\n",
    "l_w =['a',\n",
    "      'b',\n",
    "      'aaaaaaabac',\n",
    "      'ac',\n",
    "      'abab',\n",
    "      'baba',\n",
    "      'ba',\n",
    "      'bbb',\n",
    "      'aaac',\n",
    "      'ab',\n",
    "      'bac',\n",
    "      'aba',\n",
    "      'bbbbba',\n",
    "      'bbbbbcccccc',\n",
    "      'bbbbbacccccc',\n",
    "      'abaaaa'\n",
    "      ]\n",
    "for w in l_w:\n",
    "    recon_afd(estados, alfabeto, e_inicial, e_finais, f_transicao,w)"
   ]
  },
  {
   "cell_type": "markdown",
   "id": "349fd59c",
   "metadata": {},
   "source": [
    "[Topo](#Índice)"
   ]
  },
  {
   "cell_type": "markdown",
   "id": "8bfd11bf",
   "metadata": {},
   "source": [
    "## Questão 2"
   ]
  },
  {
   "cell_type": "markdown",
   "id": "2e37d7a8",
   "metadata": {},
   "source": [
    "### Implemente um autômato finito que reconheça todas as ocorrências da palavra \"computador\" no texto T. O programa deve apontar em quais posições ocorreram o casamento exato da palavra.\n",
    "T = “O <b>computador</b> é uma máquina capaz de variados tipos de tratamento automático de informações ou processamento de dados. Entende-se por <b>computador</b> um sistema físico que realiza algum tipo de computação. Assumiu-se que os computadores pessoais e laptops são ícones da era da informação. O primeiro <b>computador</b> eletromecânico foi construído por Konrad Zuse (1910–1995). Atualmente, um microcomputador é também chamado <b>computador</b> pessoal ou ainda <b>computador</b> doméstico.”"
   ]
  },
  {
   "cell_type": "code",
   "execution_count": 160,
   "id": "95ac2364",
   "metadata": {},
   "outputs": [
    {
     "data": {
      "text/plain": [
       "[2, 133, 294, 412, 440]"
      ]
     },
     "execution_count": 160,
     "metadata": {},
     "output_type": "execute_result"
    }
   ],
   "source": [
    "w = 'O computador é uma máquina capaz de variados tipos de tratamento automático de informações ou processamento de dados. Entende-se por computador um sistema físico que realiza algum tipo de computação. Assumiu-se que os computadores pessoais e laptops são ícones da era da informação. O primeiro computador eletromecânico foi construído por Konrad Zuse (1910–1995). Atualmente, um microcomputador é também chamado computador pessoal ou ainda computador doméstico.'\n",
    "alfabeto = list(dict.fromkeys([char for char in w]))\n",
    "e_inicial = \"q0\"\n",
    "estados = ['q0','q1','q2','q3','q4','q5','q6','q7','q8','q9','q10','q11','q12']\n",
    "e_finais = ['q12']\n",
    "\n",
    "f_transicao = {}\n",
    "for e in estados:\n",
    "    for s in alfabeto:\n",
    "        f_transicao[(str(e), str(s))] = 'q0'\n",
    "\n",
    "f_transicao[('q0',' ')] = 'q1'\n",
    "f_transicao[('q1','c')] = 'q2'\n",
    "f_transicao[('q2','o')] = 'q3'\n",
    "f_transicao[('q3','m')] = 'q4'\n",
    "f_transicao[('q4','p')] = 'q5'\n",
    "f_transicao[('q5','u')] = 'q6'\n",
    "f_transicao[('q6','t')] = 'q7'\n",
    "f_transicao[('q7','a')] = 'q8'\n",
    "f_transicao[('q8','d')] = 'q9'\n",
    "f_transicao[('q9','o')] = 'q10'\n",
    "f_transicao[('q10','r')] = 'q11'\n",
    "f_transicao[('q11',' ')] = 'q12'\n",
    "\n",
    "#lê automato e testa a cadeia\n",
    "def recon_afd_2(estados, alfabeto, e_inicial, e_finais, f_transicao,w):\n",
    "    estado_atual = e_inicial\n",
    "    posicoes = []\n",
    "    for simb in range(len(w)):\n",
    "        estado_atual = f_transicao[(estado_atual, w[simb])]\n",
    "\n",
    "        if estado_atual is None:\n",
    "            print(\"Rejeitada\")\n",
    "            break\n",
    "\n",
    "        else:\n",
    "            if (estado_atual in e_finais):\n",
    "                #print(\"Aceita\")\n",
    "                posicoes.append(simb-10)\n",
    "    return(posicoes)\n",
    "    \n",
    "recon_afd_2(estados, alfabeto, e_inicial, e_finais, f_transicao,w)"
   ]
  },
  {
   "cell_type": "markdown",
   "id": "1413bec2",
   "metadata": {},
   "source": [
    "## Questão 3"
   ]
  },
  {
   "cell_type": "markdown",
   "id": "741b0037",
   "metadata": {},
   "source": [
    "### Implemente um transdutor finito (máquina de Moore ou Mealy) que, dada uma sequência de moedas de 25 e 50 centavos e de 1 real, forneça uma lata de refrigerante quando a sequência totalizar 1 real ou mais. Cada moeda inserida deverá corresponder a uma de duas saídas: 0, se uma lata não pode ser (ainda) liberada, ou 1, se uma lata deve ser liberada."
   ]
  },
  {
   "cell_type": "code",
   "execution_count": null,
   "id": "ee6122c5",
   "metadata": {},
   "outputs": [],
   "source": []
  },
  {
   "cell_type": "code",
   "execution_count": null,
   "id": "b9954e01",
   "metadata": {},
   "outputs": [],
   "source": []
  },
  {
   "cell_type": "markdown",
   "id": "f63c521c",
   "metadata": {},
   "source": [
    "[Topo](#Índice)"
   ]
  }
 ],
 "metadata": {
  "kernelspec": {
   "display_name": "Python 3 (ipykernel)",
   "language": "python",
   "name": "python3"
  },
  "language_info": {
   "codemirror_mode": {
    "name": "ipython",
    "version": 3
   },
   "file_extension": ".py",
   "mimetype": "text/x-python",
   "name": "python",
   "nbconvert_exporter": "python",
   "pygments_lexer": "ipython3",
   "version": "3.9.7"
  }
 },
 "nbformat": 4,
 "nbformat_minor": 5
}
